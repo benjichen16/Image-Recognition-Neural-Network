{
  "cells": [
    {
      "cell_type": "code",
      "execution_count": 2,
      "metadata": {
        "id": "8982e50d-0d59-49f7-bc61-6acc4f8e7810"
      },
      "outputs": [],
      "source": [
        "import tensorflow as tf\n",
        "import matplotlib.pyplot as plt\n",
        "from sklearn.model_selection import train_test_split\n",
        "import numpy as np\n",
        "import sys\n",
        "from multiprocessing import Process\n",
        "from tensorflow import keras\n",
        "from numpy import expand_dims\n",
        "from keras.preprocessing.image import load_img\n",
        "from keras.preprocessing.image import img_to_array\n",
        "from keras.preprocessing.image import ImageDataGenerator"
      ],
      "id": "8982e50d-0d59-49f7-bc61-6acc4f8e7810"
    },
    {
      "cell_type": "code",
      "execution_count": 3,
      "metadata": {
        "colab": {
          "base_uri": "https://localhost:8080/"
        },
        "id": "2aafc2f7-dabb-4fb5-88b2-327790b6f207",
        "outputId": "74f59431-3cc5-4943-abca-0d7748d4a701"
      },
      "outputs": [
        {
          "output_type": "stream",
          "name": "stdout",
          "text": [
            "--2022-03-20 01:52:57--  https://storage.googleapis.com/cse144/tiny-imagenet-100.zip\n",
            "Resolving storage.googleapis.com (storage.googleapis.com)... 173.194.203.128, 74.125.199.128, 74.125.197.128, ...\n",
            "Connecting to storage.googleapis.com (storage.googleapis.com)|173.194.203.128|:443... connected.\n",
            "HTTP request sent, awaiting response... 200 OK\n",
            "Length: 113846330 (109M) [application/zip]\n",
            "Saving to: ‘tiny-imagenet-100.zip’\n",
            "\n",
            "tiny-imagenet-100.z 100%[===================>] 108.57M   131MB/s    in 0.8s    \n",
            "\n",
            "2022-03-20 01:52:58 (131 MB/s) - ‘tiny-imagenet-100.zip’ saved [113846330/113846330]\n",
            "\n"
          ]
        }
      ],
      "source": [
        "!wget https://storage.googleapis.com/cse144/tiny-imagenet-100.zip\n",
        "!unzip -q tiny-imagenet-100.zip"
      ],
      "id": "2aafc2f7-dabb-4fb5-88b2-327790b6f207"
    },
    {
      "cell_type": "code",
      "execution_count": 4,
      "metadata": {
        "id": "a61246b7-ac8b-4974-bd3a-14da55ff3ccc"
      },
      "outputs": [],
      "source": [
        "from PIL import Image\n",
        "from glob import glob"
      ],
      "id": "a61246b7-ac8b-4974-bd3a-14da55ff3ccc"
    },
    {
      "cell_type": "code",
      "execution_count": 5,
      "metadata": {
        "id": "4de7cf6e-f1df-4308-967e-077396d28eba"
      },
      "outputs": [],
      "source": [
        "label_dict = {}\n",
        "for i, line in enumerate(open(\"tiny-imagenet-100/wnids.txt\", \"r\")):\n",
        "    label_dict[line.rstrip(\"\\n\")] = i"
      ],
      "id": "4de7cf6e-f1df-4308-967e-077396d28eba"
    },
    {
      "cell_type": "code",
      "execution_count": 6,
      "metadata": {
        "id": "ded1bb88-99de-4a31-b4fc-15d8504e7f53"
      },
      "outputs": [],
      "source": [
        "images = glob(\"tiny-imagenet-100/train/*/*/*\")\n",
        "trainingData = []\n",
        "trainingLabel = []\n",
        "for i in images:\n",
        "    img = np.array(Image.open(i).convert(\"RGB\"))\n",
        "    label = label_dict[i.split('/')[-1].split('_')[0]]\n",
        "    trainingLabel.append(label)\n",
        "    trainingData.append(img)\n",
        "    samples = expand_dims(img, 0)\n",
        "    datagen = ImageDataGenerator(rotation_range=90)\n",
        "    it = datagen.flow(samples, batch_size=1)\n",
        "    for i in range(3):\n",
        "      batch = it.next()\n",
        "      image = batch[0].astype('uint8')\n",
        "      trainingData.append(image)\n",
        "      trainingLabel.append(label)\n"
      ],
      "id": "ded1bb88-99de-4a31-b4fc-15d8504e7f53"
    },
    {
      "cell_type": "code",
      "execution_count": 7,
      "metadata": {
        "id": "32745cb0-a151-4257-ad8d-529e283c961b"
      },
      "outputs": [],
      "source": [
        "trainingData = np.array(trainingData)\n",
        "trainingLabel = np.array(trainingLabel)\n",
        "x_train, x_val, y_train, y_val = train_test_split(trainingData, trainingLabel, test_size = 0.10, shuffle = True)\n",
        "x_train, x_test, y_train, y_test = train_test_split(x_train, y_train, test_size = 0.10, shuffle = True)\n",
        "# def preprocess(x, y):\n",
        "#   x = tf.cast(x, tf.float32) / 255.0\n",
        "#   y = tf.cast(y, tf.int64)\n",
        "\n",
        "#   return x, y\n",
        "# x_train,y_train = preprocess(x_train, y_train)\n",
        "# x_val, y_val = preprocess(x_val, y_val)"
      ],
      "id": "32745cb0-a151-4257-ad8d-529e283c961b"
    },
    {
      "cell_type": "code",
      "execution_count": 8,
      "metadata": {
        "id": "3898209e-a29a-4372-87a0-4f7f8d90d0f0",
        "colab": {
          "base_uri": "https://localhost:8080/"
        },
        "outputId": "1d205131-4cd6-4ff6-a891-4b1817985118"
      },
      "outputs": [
        {
          "output_type": "stream",
          "name": "stdout",
          "text": [
            "Downloading data from https://storage.googleapis.com/tensorflow/keras-applications/resnet/resnet50_weights_tf_dim_ordering_tf_kernels_notop.h5\n",
            "94773248/94765736 [==============================] - 1s 0us/step\n",
            "94781440/94765736 [==============================] - 1s 0us/step\n"
          ]
        }
      ],
      "source": [
        "resnet_model = keras.Sequential()\n",
        "\n",
        "pretrained_model= tf.keras.applications.ResNet50(include_top=False,\n",
        "                   input_shape=(64,64,3),\n",
        "                   pooling='avg',classes=100,\n",
        "                   weights='imagenet')\n",
        "for layer in pretrained_model.layers:\n",
        "        layer.trainable=False\n",
        "\n",
        "resnet_model.add(pretrained_model)"
      ],
      "id": "3898209e-a29a-4372-87a0-4f7f8d90d0f0"
    },
    {
      "cell_type": "code",
      "execution_count": 9,
      "metadata": {
        "id": "be1f154d-9c16-49a6-835a-ac22d399b487"
      },
      "outputs": [],
      "source": [
        "resnet_model.add(keras.layers.Flatten())\n",
        "resnet_model.add(keras.layers.Dense(units = 1024, activation = 'relu'))\n",
        "resnet_model.add(keras.layers.BatchNormalization())\n",
        "resnet_model.add(keras.layers.Dropout(0.5))\n",
        "resnet_model.add(keras.layers.Dense(512, activation='relu'))\n",
        "resnet_model.add(keras.layers.BatchNormalization())\n",
        "resnet_model.add(keras.layers.Dropout(0.5))\n",
        "resnet_model.add(keras.layers.Dense(256, activation='relu'))\n",
        "resnet_model.add(keras.layers.BatchNormalization())\n",
        "resnet_model.add(keras.layers.Dropout(0.5))\n",
        "resnet_model.add(keras.layers.Dense(128, activation='relu'))\n",
        "resnet_model.add(keras.layers.BatchNormalization())\n",
        "resnet_model.add(keras.layers.Dropout(0.5))\n",
        "resnet_model.add(keras.layers.Dense(100, activation = 'softmax'))"
      ],
      "id": "be1f154d-9c16-49a6-835a-ac22d399b487"
    },
    {
      "cell_type": "code",
      "execution_count": 10,
      "metadata": {
        "id": "66wpBk5edT4f",
        "colab": {
          "base_uri": "https://localhost:8080/"
        },
        "outputId": "dc4cace7-0aff-4f55-9681-ae982769f4cb"
      },
      "outputs": [
        {
          "output_type": "stream",
          "name": "stdout",
          "text": [
            "Model: \"sequential\"\n",
            "_________________________________________________________________\n",
            " Layer (type)                Output Shape              Param #   \n",
            "=================================================================\n",
            " resnet50 (Functional)       (None, 2048)              23587712  \n",
            "                                                                 \n",
            " flatten (Flatten)           (None, 2048)              0         \n",
            "                                                                 \n",
            " dense (Dense)               (None, 1024)              2098176   \n",
            "                                                                 \n",
            " batch_normalization (BatchN  (None, 1024)             4096      \n",
            " ormalization)                                                   \n",
            "                                                                 \n",
            " dropout (Dropout)           (None, 1024)              0         \n",
            "                                                                 \n",
            " dense_1 (Dense)             (None, 512)               524800    \n",
            "                                                                 \n",
            " batch_normalization_1 (Batc  (None, 512)              2048      \n",
            " hNormalization)                                                 \n",
            "                                                                 \n",
            " dropout_1 (Dropout)         (None, 512)               0         \n",
            "                                                                 \n",
            " dense_2 (Dense)             (None, 256)               131328    \n",
            "                                                                 \n",
            " batch_normalization_2 (Batc  (None, 256)              1024      \n",
            " hNormalization)                                                 \n",
            "                                                                 \n",
            " dropout_2 (Dropout)         (None, 256)               0         \n",
            "                                                                 \n",
            " dense_3 (Dense)             (None, 128)               32896     \n",
            "                                                                 \n",
            " batch_normalization_3 (Batc  (None, 128)              512       \n",
            " hNormalization)                                                 \n",
            "                                                                 \n",
            " dropout_3 (Dropout)         (None, 128)               0         \n",
            "                                                                 \n",
            " dense_4 (Dense)             (None, 100)               12900     \n",
            "                                                                 \n",
            "=================================================================\n",
            "Total params: 26,395,492\n",
            "Trainable params: 2,803,940\n",
            "Non-trainable params: 23,591,552\n",
            "_________________________________________________________________\n"
          ]
        }
      ],
      "source": [
        "resnet_model.summary()"
      ],
      "id": "66wpBk5edT4f"
    },
    {
      "cell_type": "code",
      "execution_count": 11,
      "metadata": {
        "colab": {
          "base_uri": "https://localhost:8080/"
        },
        "id": "8a0417df-ccc8-4ac0-bc53-9c46edd441ab",
        "outputId": "14922832-ec52-40e6-82fe-e1fee71e2549"
      },
      "outputs": [
        {
          "output_type": "stream",
          "name": "stdout",
          "text": [
            "Epoch 1/20\n",
            "5063/5063 [==============================] - 110s 19ms/step - loss: 3.5283 - accuracy: 0.1558 - val_loss: 2.8361 - val_accuracy: 0.2941\n",
            "Epoch 2/20\n",
            "5063/5063 [==============================] - 98s 19ms/step - loss: 3.1270 - accuracy: 0.2341 - val_loss: 2.6603 - val_accuracy: 0.3318\n",
            "Epoch 3/20\n",
            "5063/5063 [==============================] - 100s 20ms/step - loss: 3.0042 - accuracy: 0.2624 - val_loss: 2.5601 - val_accuracy: 0.3577\n",
            "Epoch 4/20\n",
            "5063/5063 [==============================] - 99s 20ms/step - loss: 2.9321 - accuracy: 0.2811 - val_loss: 2.5241 - val_accuracy: 0.3650\n",
            "Epoch 5/20\n",
            "5063/5063 [==============================] - 98s 19ms/step - loss: 2.8799 - accuracy: 0.2939 - val_loss: 2.4851 - val_accuracy: 0.3776\n",
            "Epoch 6/20\n",
            "5063/5063 [==============================] - 100s 20ms/step - loss: 2.8449 - accuracy: 0.3025 - val_loss: 2.4552 - val_accuracy: 0.3839\n",
            "Epoch 7/20\n",
            "5063/5063 [==============================] - 97s 19ms/step - loss: 2.8121 - accuracy: 0.3113 - val_loss: 2.4359 - val_accuracy: 0.3853\n",
            "Epoch 8/20\n",
            "5063/5063 [==============================] - 98s 19ms/step - loss: 2.7890 - accuracy: 0.3167 - val_loss: 2.4042 - val_accuracy: 0.3961\n",
            "Epoch 9/20\n",
            "5063/5063 [==============================] - 98s 19ms/step - loss: 2.7586 - accuracy: 0.3239 - val_loss: 2.3759 - val_accuracy: 0.4017\n",
            "Epoch 10/20\n",
            "5063/5063 [==============================] - 97s 19ms/step - loss: 2.7432 - accuracy: 0.3285 - val_loss: 2.3724 - val_accuracy: 0.4029\n",
            "Epoch 11/20\n",
            "5063/5063 [==============================] - 97s 19ms/step - loss: 2.7303 - accuracy: 0.3297 - val_loss: 2.3973 - val_accuracy: 0.3988\n",
            "Epoch 12/20\n",
            "5063/5063 [==============================] - 99s 20ms/step - loss: 2.7203 - accuracy: 0.3343 - val_loss: 2.3557 - val_accuracy: 0.4053\n",
            "Epoch 13/20\n",
            "5063/5063 [==============================] - 97s 19ms/step - loss: 2.7066 - accuracy: 0.3373 - val_loss: 2.3446 - val_accuracy: 0.4094\n",
            "Epoch 14/20\n",
            "5063/5063 [==============================] - 99s 20ms/step - loss: 2.6941 - accuracy: 0.3408 - val_loss: 2.3264 - val_accuracy: 0.4144\n",
            "Epoch 15/20\n",
            "5063/5063 [==============================] - 97s 19ms/step - loss: 2.6765 - accuracy: 0.3431 - val_loss: 2.3156 - val_accuracy: 0.4151\n",
            "Epoch 16/20\n",
            "5063/5063 [==============================] - 101s 20ms/step - loss: 2.6626 - accuracy: 0.3476 - val_loss: 2.3125 - val_accuracy: 0.4128\n",
            "Epoch 17/20\n",
            "5063/5063 [==============================] - 99s 20ms/step - loss: 2.6550 - accuracy: 0.3485 - val_loss: 2.2953 - val_accuracy: 0.4209\n",
            "Epoch 18/20\n",
            "5063/5063 [==============================] - 99s 20ms/step - loss: 2.6428 - accuracy: 0.3521 - val_loss: 2.2985 - val_accuracy: 0.4205\n",
            "Epoch 19/20\n",
            "5063/5063 [==============================] - 97s 19ms/step - loss: 2.6379 - accuracy: 0.3554 - val_loss: 2.2935 - val_accuracy: 0.4229\n",
            "Epoch 20/20\n",
            "5063/5063 [==============================] - 99s 20ms/step - loss: 2.6327 - accuracy: 0.3562 - val_loss: 2.2916 - val_accuracy: 0.4201\n"
          ]
        }
      ],
      "source": [
        "reduce = keras.callbacks.ReduceLROnPlateau(monitor='val_loss', factor=0.1, patience=5, mode='auto')\n",
        "early = keras.callbacks.EarlyStopping(monitor='val_loss', min_delta=1e-4, patience=10, mode='auto')\n",
        "opt = keras.optimizers.SGD(learning_rate=0.1)\n",
        "resnet_model.compile(optimizer=opt,loss='sparse_categorical_crossentropy',metrics=['accuracy'])\n",
        "\n",
        "history = resnet_model.fit(x_train, y_train, \n",
        "                           validation_data=(x_val, y_val), \n",
        "                           epochs=20\n",
        "                          )"
      ],
      "id": "8a0417df-ccc8-4ac0-bc53-9c46edd441ab"
    },
    {
      "cell_type": "code",
      "execution_count": 12,
      "metadata": {
        "id": "n8FN8PaplVBn",
        "colab": {
          "base_uri": "https://localhost:8080/"
        },
        "outputId": "4946b315-76d9-491c-d22c-6300513df951"
      },
      "outputs": [
        {
          "output_type": "stream",
          "name": "stdout",
          "text": [
            "563/563 [==============================] - 13s 21ms/step - loss: 2.2920 - accuracy: 0.4246\n",
            "2.2919726371765137 0.42455556988716125\n"
          ]
        }
      ],
      "source": [
        "test_loss, test_acc = resnet_model.evaluate(x_test, y_test)\n",
        "print(test_loss, test_acc)"
      ],
      "id": "n8FN8PaplVBn"
    },
    {
      "cell_type": "code",
      "source": [
        ""
      ],
      "metadata": {
        "id": "Lldy1i4SKqdw"
      },
      "id": "Lldy1i4SKqdw",
      "execution_count": null,
      "outputs": []
    }
  ],
  "metadata": {
    "colab": {
      "collapsed_sections": [],
      "name": "Image_Recongition_NN.ipynb",
      "provenance": []
    },
    "environment": {
      "kernel": "conda-root-py",
      "name": "common-cu110.m90",
      "type": "gcloud",
      "uri": "gcr.io/deeplearning-platform-release/base-cu110:m90"
    },
    "kernelspec": {
      "display_name": "Python [conda env:root] *",
      "language": "python",
      "name": "conda-root-py"
    },
    "language_info": {
      "codemirror_mode": {
        "name": "ipython",
        "version": 3
      },
      "file_extension": ".py",
      "mimetype": "text/x-python",
      "name": "python",
      "nbconvert_exporter": "python",
      "pygments_lexer": "ipython3",
      "version": "3.7.12"
    },
    "accelerator": "GPU"
  },
  "nbformat": 4,
  "nbformat_minor": 5
}